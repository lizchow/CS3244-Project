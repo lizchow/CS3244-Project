{
 "cells": [
  {
   "cell_type": "code",
   "execution_count": null,
   "metadata": {},
   "outputs": [],
   "source": [
    "import pandas as pd\n",
    "import numpy as np\n",
    "from torch import nn\n",
    "from torch.optim import AdamW\n",
    "from transformers import BertTokenizer, BertModel\n",
    "import torch"
   ]
  },
  {
   "cell_type": "code",
   "execution_count": null,
   "metadata": {},
   "outputs": [],
   "source": [
    "df = pd.read_csv('./raw_data/fulltrain.csv')"
   ]
  },
  {
   "cell_type": "code",
   "execution_count": null,
   "metadata": {},
   "outputs": [
    {
     "data": {
      "text/html": [
       "<div>\n",
       "<style scoped>\n",
       "    .dataframe tbody tr th:only-of-type {\n",
       "        vertical-align: middle;\n",
       "    }\n",
       "\n",
       "    .dataframe tbody tr th {\n",
       "        vertical-align: top;\n",
       "    }\n",
       "\n",
       "    .dataframe thead th {\n",
       "        text-align: right;\n",
       "    }\n",
       "</style>\n",
       "<table border=\"1\" class=\"dataframe\">\n",
       "  <thead>\n",
       "    <tr style=\"text-align: right;\">\n",
       "      <th></th>\n",
       "      <th>label</th>\n",
       "      <th>text</th>\n",
       "    </tr>\n",
       "  </thead>\n",
       "  <tbody>\n",
       "    <tr>\n",
       "      <th>0</th>\n",
       "      <td>1</td>\n",
       "      <td>A little less than a decade ago, hockey fans w...</td>\n",
       "    </tr>\n",
       "    <tr>\n",
       "      <th>1</th>\n",
       "      <td>1</td>\n",
       "      <td>The writers of the HBO series The Sopranos too...</td>\n",
       "    </tr>\n",
       "    <tr>\n",
       "      <th>2</th>\n",
       "      <td>1</td>\n",
       "      <td>Despite claims from the TV news outlet to offe...</td>\n",
       "    </tr>\n",
       "    <tr>\n",
       "      <th>3</th>\n",
       "      <td>1</td>\n",
       "      <td>After receiving 'subpar' service and experienc...</td>\n",
       "    </tr>\n",
       "    <tr>\n",
       "      <th>4</th>\n",
       "      <td>1</td>\n",
       "      <td>After watching his beloved Seattle Mariners pr...</td>\n",
       "    </tr>\n",
       "  </tbody>\n",
       "</table>\n",
       "</div>"
      ],
      "text/plain": [
       "   label                                               text\n",
       "0      1  A little less than a decade ago, hockey fans w...\n",
       "1      1  The writers of the HBO series The Sopranos too...\n",
       "2      1  Despite claims from the TV news outlet to offe...\n",
       "3      1  After receiving 'subpar' service and experienc...\n",
       "4      1  After watching his beloved Seattle Mariners pr..."
      ]
     },
     "execution_count": 3,
     "metadata": {},
     "output_type": "execute_result"
    }
   ],
   "source": [
    "df.head()"
   ]
  },
  {
   "cell_type": "code",
   "execution_count": null,
   "metadata": {},
   "outputs": [],
   "source": [
    "df.columns = [\"label\", \"text\"]\n",
    "label_counts = df['label'].value_counts()\n",
    "df_len = np.arange(len(df))\n",
    "label_1_idx = df_len[df.iloc[df_len]['label'] == 1]\n",
    "label_1 = np.random.choice(label_1_idx, 150, replace=False)\n",
    "label_2_idx = df_len[df.iloc[df_len]['label'] == 2]\n",
    "label_2 = np.random.choice(label_2_idx, 150, replace=False)\n",
    "label_3_idx = df_len[df.iloc[df_len]['label'] == 3]\n",
    "label_3 = np.random.choice(label_3_idx, 150, replace=False)\n",
    "label_4_idx = df_len[df.iloc[df_len]['label'] == 4]\n",
    "label_4 = np.random.choice(label_4_idx, 150, replace=False)\n",
    "\n",
    "new_texts = np.append(label_1, label_2)\n",
    "new_texts = np.append(new_texts, label_3)\n",
    "new_texts = np.append(new_texts, label_4)\n",
    "\n",
    "new_data = {\n",
    "    \"label\": [df.iloc[i][\"label\"] for i in new_texts],\n",
    "    \"text\": [df.iloc[i]['text'] for i in new_texts]\n",
    "}\n",
    "\n",
    "new_df = pd.DataFrame(new_data)"
   ]
  },
  {
   "cell_type": "code",
   "execution_count": null,
   "metadata": {},
   "outputs": [],
   "source": [
    "from sklearn.model_selection import train_test_split\n",
    "X_train, X_val, y_train, y_val = train_test_split(new_df.index.values,\n",
    "                                                    new_df.label.values,\n",
    "                                                    test_size=0.2,\n",
    "                                                    random_state=42,\n",
    "                                                    stratify=new_df.label.values)"
   ]
  },
  {
   "cell_type": "code",
   "execution_count": null,
   "metadata": {},
   "outputs": [
    {
     "data": {
      "text/html": [
       "<div>\n",
       "<style scoped>\n",
       "    .dataframe tbody tr th:only-of-type {\n",
       "        vertical-align: middle;\n",
       "    }\n",
       "\n",
       "    .dataframe tbody tr th {\n",
       "        vertical-align: top;\n",
       "    }\n",
       "\n",
       "    .dataframe thead th {\n",
       "        text-align: right;\n",
       "    }\n",
       "</style>\n",
       "<table border=\"1\" class=\"dataframe\">\n",
       "  <thead>\n",
       "    <tr style=\"text-align: right;\">\n",
       "      <th></th>\n",
       "      <th></th>\n",
       "      <th>text</th>\n",
       "    </tr>\n",
       "    <tr>\n",
       "      <th>label</th>\n",
       "      <th>data_type</th>\n",
       "      <th></th>\n",
       "    </tr>\n",
       "  </thead>\n",
       "  <tbody>\n",
       "    <tr>\n",
       "      <th rowspan=\"2\" valign=\"top\">1</th>\n",
       "      <th>train</th>\n",
       "      <td>120</td>\n",
       "    </tr>\n",
       "    <tr>\n",
       "      <th>val</th>\n",
       "      <td>30</td>\n",
       "    </tr>\n",
       "    <tr>\n",
       "      <th rowspan=\"2\" valign=\"top\">2</th>\n",
       "      <th>train</th>\n",
       "      <td>120</td>\n",
       "    </tr>\n",
       "    <tr>\n",
       "      <th>val</th>\n",
       "      <td>30</td>\n",
       "    </tr>\n",
       "    <tr>\n",
       "      <th rowspan=\"2\" valign=\"top\">3</th>\n",
       "      <th>train</th>\n",
       "      <td>120</td>\n",
       "    </tr>\n",
       "    <tr>\n",
       "      <th>val</th>\n",
       "      <td>30</td>\n",
       "    </tr>\n",
       "    <tr>\n",
       "      <th rowspan=\"2\" valign=\"top\">4</th>\n",
       "      <th>train</th>\n",
       "      <td>120</td>\n",
       "    </tr>\n",
       "    <tr>\n",
       "      <th>val</th>\n",
       "      <td>30</td>\n",
       "    </tr>\n",
       "  </tbody>\n",
       "</table>\n",
       "</div>"
      ],
      "text/plain": [
       "                 text\n",
       "label data_type      \n",
       "1     train       120\n",
       "      val          30\n",
       "2     train       120\n",
       "      val          30\n",
       "3     train       120\n",
       "      val          30\n",
       "4     train       120\n",
       "      val          30"
      ]
     },
     "execution_count": 7,
     "metadata": {},
     "output_type": "execute_result"
    }
   ],
   "source": [
    "new_df['data_type'] = ['none'] * new_df.shape[0]\n",
    "\n",
    "new_df.loc[X_train, 'data_type'] = 'train'\n",
    "new_df.loc[X_val, 'data_type'] = 'val'\n",
    "\n",
    "new_df.groupby(['label', 'data_type']).count()"
   ]
  },
  {
   "cell_type": "code",
   "execution_count": null,
   "metadata": {},
   "outputs": [],
   "source": [
    "model_path = 'bert-base-uncased'\n",
    "\n",
    "tokenizer = BertTokenizer.from_pretrained(model_path)\n",
    "\n",
    "class Dataset(torch.utils.data.Dataset):\n",
    "  def __init__(self, texts_idx, labels, dataframe=new_df):\n",
    "    self.labels = labels\n",
    "    self.texts = [tokenizer(dataframe.iloc[idx]['text'],\n",
    "                            padding='max_length',\n",
    "                            max_length=512,\n",
    "                            truncation=True,\n",
    "                            return_tensors='pt')\n",
    "                  for idx in texts_idx]  \n",
    "  def classes(self):\n",
    "      return self.labels\n",
    "\n",
    "  def __len__(self):\n",
    "      return len(self.labels)\n",
    "\n",
    "  def get_batch_labels(self, idx):\n",
    "      # Fetch a batch of labels\n",
    "      return np.array(self.labels[idx])\n",
    "\n",
    "  def get_batch_texts(self, idx):\n",
    "      # Fetch a batch of inputs\n",
    "      return self.texts[idx]\n",
    "\n",
    "  def __getitem__(self, idx):\n",
    "\n",
    "      batch_texts = self.get_batch_texts(idx)\n",
    "      batch_y = self.get_batch_labels(idx)\n",
    "\n",
    "      return batch_texts, batch_y "
   ]
  },
  {
   "cell_type": "code",
   "execution_count": 35,
   "metadata": {},
   "outputs": [
    {
     "name": "stderr",
     "output_type": "stream",
     "text": [
      "Some weights of the model checkpoint at bert-base-uncased were not used when initializing BertModel: ['cls.predictions.transform.LayerNorm.weight', 'cls.predictions.transform.dense.bias', 'cls.seq_relationship.weight', 'cls.predictions.decoder.weight', 'cls.predictions.transform.LayerNorm.bias', 'cls.predictions.transform.dense.weight', 'cls.seq_relationship.bias', 'cls.predictions.bias']\n",
      "- This IS expected if you are initializing BertModel from the checkpoint of a model trained on another task or with another architecture (e.g. initializing a BertForSequenceClassification model from a BertForPreTraining model).\n",
      "- This IS NOT expected if you are initializing BertModel from the checkpoint of a model that you expect to be exactly identical (initializing a BertForSequenceClassification model from a BertForSequenceClassification model).\n"
     ]
    }
   ],
   "source": [
    "class BertClassifier(nn.Module):\n",
    "  def __init__(self, dropout=0.5, bert=BertModel.from_pretrained(model_path)):\n",
    "    super(BertClassifier, self).__init__()\n",
    "\n",
    "    self.bert = bert\n",
    "    self.dropout = nn.Dropout(dropout)\n",
    "    self.linear = nn.Linear(768, 5)\n",
    "    self.relu = nn.ReLU()\n",
    "  \n",
    "  def forward(self, input_id, mask):\n",
    "    _, pooled_output = self.bert(input_ids= input_id, attention_mask=mask,return_dict=False)\n",
    "    dropout_output = self.dropout(pooled_output)\n",
    "    linear_output = self.linear(dropout_output)\n",
    "    final_layer = self.relu(linear_output)\n",
    "    \n",
    "    return final_layer"
   ]
  },
  {
   "cell_type": "code",
   "execution_count": 30,
   "metadata": {},
   "outputs": [
    {
     "name": "stderr",
     "output_type": "stream",
     "text": [
      "Some weights of the model checkpoint at bert-base-uncased were not used when initializing BertModel: ['cls.predictions.transform.LayerNorm.weight', 'cls.predictions.transform.dense.bias', 'cls.seq_relationship.weight', 'cls.predictions.decoder.weight', 'cls.predictions.transform.LayerNorm.bias', 'cls.predictions.transform.dense.weight', 'cls.seq_relationship.bias', 'cls.predictions.bias']\n",
      "- This IS expected if you are initializing BertModel from the checkpoint of a model trained on another task or with another architecture (e.g. initializing a BertForSequenceClassification model from a BertForPreTraining model).\n",
      "- This IS NOT expected if you are initializing BertModel from the checkpoint of a model that you expect to be exactly identical (initializing a BertForSequenceClassification model from a BertForSequenceClassification model).\n",
      "100%|██████████| 480/480 [33:02<00:00,  4.13s/it]\n"
     ]
    },
    {
     "name": "stdout",
     "output_type": "stream",
     "text": [
      "Epochs: 1 | Train Loss:  1.162                 | Train Accuracy:  0.573                 | Val Loss:  0.732                 | Val Accuracy:  0.792\n"
     ]
    },
    {
     "name": "stderr",
     "output_type": "stream",
     "text": [
      "100%|██████████| 480/480 [39:42<00:00,  4.96s/it]\n"
     ]
    },
    {
     "name": "stdout",
     "output_type": "stream",
     "text": [
      "Epochs: 2 | Train Loss:  0.526                 | Train Accuracy:  0.877                 | Val Loss:  0.293                 | Val Accuracy:  0.950\n"
     ]
    }
   ],
   "source": [
    "from tqdm import tqdm\n",
    "\n",
    "def train(model, xtrain, ytrain, xtest, ytest, learning_rate, epochs):\n",
    "\n",
    "    train, val = Dataset(xtrain, ytrain), Dataset(xtest, ytest)\n",
    "    train_dataloader = torch.utils.data.DataLoader(train, batch_size=1, shuffle=True)\n",
    "    val_dataloader = torch.utils.data.DataLoader(val, batch_size=1)\n",
    "\n",
    "    use_cuda = torch.cuda.is_available()\n",
    "    device = torch.device(\"cuda\" if use_cuda else \"cpu\")\n",
    "\n",
    "    criterion = nn.CrossEntropyLoss()\n",
    "    optimizer = AdamW(model.parameters(), lr= learning_rate)\n",
    "\n",
    "    if use_cuda:\n",
    "\n",
    "            model = model.cuda()\n",
    "            criterion = criterion.cuda()\n",
    "\n",
    "    for epoch_num in range(epochs):\n",
    "\n",
    "            total_acc_train = 0\n",
    "            total_loss_train = 0\n",
    "\n",
    "            for train_input, train_label in tqdm(train_dataloader):\n",
    "\n",
    "                train_label = train_label.to(device)\n",
    "                mask = train_input['attention_mask'].to(device)\n",
    "                input_id = train_input['input_ids'].squeeze(1).to(device)\n",
    "\n",
    "                output = model(input_id, mask)\n",
    "                \n",
    "                batch_loss = criterion(output, train_label)\n",
    "                total_loss_train += batch_loss.item()\n",
    "                \n",
    "                acc = (output.argmax(dim=1) == train_label).sum().item()\n",
    "                total_acc_train += acc\n",
    "\n",
    "                model.zero_grad()\n",
    "                batch_loss.backward()\n",
    "                optimizer.step()\n",
    "            \n",
    "            total_acc_val = 0\n",
    "            total_loss_val = 0\n",
    "\n",
    "            with torch.no_grad():\n",
    "\n",
    "                for val_input, val_label in val_dataloader:\n",
    "\n",
    "                    val_label = val_label.to(device)\n",
    "                    mask = val_input['attention_mask'].to(device)\n",
    "                    input_id = val_input['input_ids'].squeeze(1).to(device)\n",
    "\n",
    "                    output = model(input_id, mask)\n",
    "\n",
    "                    batch_loss = criterion(output, val_label)\n",
    "                    total_loss_val += batch_loss.item()\n",
    "                    \n",
    "                    acc = (output.argmax(dim=1) == val_label).sum().item()\n",
    "                    total_acc_val += acc\n",
    "            \n",
    "            print(\n",
    "                f'Epochs: {epoch_num + 1} | Train Loss: {total_loss_train / len(xtrain): .3f} \\\n",
    "                | Train Accuracy: {total_acc_train / len(xtrain): .3f} \\\n",
    "                | Val Loss: {total_loss_val / len(xtest): .3f} \\\n",
    "                | Val Accuracy: {total_acc_val / len(xtest): .3f}')\n",
    "                            \n",
    "            model.bert.save_pretrained('./raw_data/model_bert_mid1.pth')\n",
    "                  \n",
    "EPOCHS = 2\n",
    "model = BertClassifier()\n",
    "LR = 1e-5\n",
    "train(model, X_train, y_train, X_val, y_val, LR, EPOCHS)"
   ]
  },
  {
   "cell_type": "code",
   "execution_count": 31,
   "metadata": {},
   "outputs": [],
   "source": [
    "df_test = pd.read_csv('./raw_data/balancedtest.csv')\n",
    "\n",
    "df_test_len = np.arange(len(df_test))\n",
    "label_1_idx_test = df_test_len[df_test.iloc[df_test_len]['label'] == 1]\n",
    "label_1_test = np.random.choice(label_1_idx_test, 150, replace=False)\n",
    "label_2_idx_test = df_test_len[df_test.iloc[df_test_len]['label'] == 2]\n",
    "label_2_test = np.random.choice(label_2_idx_test, 150, replace=False)\n",
    "label_3_idx_test = df_test_len[df_test.iloc[df_test_len]['label'] == 3]\n",
    "label_3_test = np.random.choice(label_3_idx_test, 150, replace=False)\n",
    "label_4_idx_test = df_test_len[df_test.iloc[df_test_len]['label'] == 4]\n",
    "label_4_test = np.random.choice(label_4_idx_test, 150, replace=False)\n",
    "\n",
    "new_texts_test = np.append(label_1_test, label_2_test)\n",
    "new_texts_test = np.append(new_texts_test, label_3_test)\n",
    "new_texts_test = np.append(new_texts_test, label_4_test)\n",
    "\n",
    "new_test_data = {\n",
    "    \"label\": [df_test.iloc[i][\"label\"] for i in new_texts_test],\n",
    "    \"text\": [df_test.iloc[i]['text'] for i in new_texts_test]\n",
    "}\n",
    "\n",
    "new_test_df = pd.DataFrame(new_test_data)"
   ]
  },
  {
   "cell_type": "code",
   "execution_count": 33,
   "metadata": {},
   "outputs": [
    {
     "name": "stderr",
     "output_type": "stream",
     "text": [
      "100%|██████████| 600/600 [15:18<00:00,  1.53s/it]"
     ]
    },
    {
     "name": "stdout",
     "output_type": "stream",
     "text": [
      "Test Accuracy:  0.447\n"
     ]
    },
    {
     "name": "stderr",
     "output_type": "stream",
     "text": [
      "\n"
     ]
    }
   ],
   "source": [
    "from sklearn.metrics import classification_report\n",
    "\n",
    "\n",
    "def evaluate(model, xdata, ydata, df):\n",
    "    y_true = []\n",
    "    y_output = []\n",
    "    test = Dataset(xdata, ydata, df)\n",
    "\n",
    "    test_dataloader = torch.utils.data.DataLoader(test, batch_size=1)\n",
    "\n",
    "    use_cuda = torch.cuda.is_available()\n",
    "    device = torch.device(\"cuda\" if use_cuda else \"cpu\")\n",
    "\n",
    "    if use_cuda:\n",
    "\n",
    "        model = model.cuda()\n",
    "\n",
    "    total_acc_test = 0\n",
    "    with torch.no_grad():\n",
    "\n",
    "        for test_input, test_label in tqdm(test_dataloader):\n",
    "\n",
    "              test_label = test_label.to(device)\n",
    "              mask = test_input['attention_mask'].to(device)\n",
    "              input_id = test_input['input_ids'].squeeze(1).to(device)\n",
    "\n",
    "              output = model(input_id, mask)\n",
    "              y_true.append(test_label)\n",
    "              y_output.append(output.argmax(dim=1))\n",
    "              acc = (output.argmax(dim=1) == test_label).sum().item()\n",
    "              total_acc_test += acc\n",
    "    \n",
    "    print(f'Test Accuracy: {total_acc_test / len(xdata): .3f}')\n",
    "    return y_true, y_output\n",
    "\n",
    "test_labels, test_res = evaluate(model, new_test_df.index.values, new_test_df.label.values, new_test_df)"
   ]
  },
  {
   "cell_type": "code",
   "execution_count": 34,
   "metadata": {},
   "outputs": [
    {
     "name": "stdout",
     "output_type": "stream",
     "text": [
      "              precision    recall  f1-score   support\n",
      "\n",
      "           1       0.74      0.55      0.63       150\n",
      "           2       0.32      0.16      0.21       150\n",
      "           3       0.23      0.29      0.26       150\n",
      "           4       0.53      0.78      0.63       150\n",
      "\n",
      "    accuracy                           0.45       600\n",
      "   macro avg       0.45      0.45      0.43       600\n",
      "weighted avg       0.45      0.45      0.43       600\n",
      "\n"
     ]
    }
   ],
   "source": [
    "print(classification_report(list(map(lambda x: x.sum().item(), test_labels)), list(map(lambda x: x.sum().item(), test_res))))"
   ]
  }
 ],
 "metadata": {
  "interpreter": {
   "hash": "d10929511683add11e9ea60d5a28900ddd0ab7a6e18cc710a094163d843de7ea"
  },
  "kernelspec": {
   "display_name": "Python 3.8.5 64-bit",
   "language": "python",
   "name": "python3"
  },
  "language_info": {
   "codemirror_mode": {
    "name": "ipython",
    "version": 3
   },
   "file_extension": ".py",
   "mimetype": "text/x-python",
   "name": "python",
   "nbconvert_exporter": "python",
   "pygments_lexer": "ipython3",
   "version": "3.8.5"
  },
  "orig_nbformat": 4
 },
 "nbformat": 4,
 "nbformat_minor": 2
}
